{
 "cells": [
  {
   "cell_type": "markdown",
   "source": [
    "### Set up configuration and imports"
   ],
   "metadata": {
    "collapsed": false
   },
   "id": "6d155e3bc696879d"
  },
  {
   "cell_type": "code",
   "outputs": [],
   "source": [
    "import pathlib\n",
    "import numpy as np\n",
    "import matplotlib.pyplot as plt\n",
    "import cv2\n",
    "\n",
    "INPUT_FOLDER  = pathlib.Path(\"data\")\n",
    "\n",
    "OUTPUT_FOLDER = pathlib.Path(\"output\")\n",
    "\n",
    "FILENAMES = INPUT_FOLDER.glob(\"*.jpg\")\n"
   ],
   "metadata": {
    "collapsed": false,
    "ExecuteTime": {
     "end_time": "2024-04-30T07:50:42.801268Z",
     "start_time": "2024-04-30T07:50:42.200143Z"
    }
   },
   "id": "6a20d22202270f5d",
   "execution_count": 1
  },
  {
   "cell_type": "code",
   "outputs": [
    {
     "name": "stdout",
     "output_type": "stream",
     "text": [
      "data\\hl007179.jpg\n"
     ]
    }
   ],
   "source": [
    "for filename in FILENAMES:\n",
    "    print(filename)"
   ],
   "metadata": {
    "collapsed": false,
    "ExecuteTime": {
     "end_time": "2024-04-30T07:50:42.812138Z",
     "start_time": "2024-04-30T07:50:42.803376Z"
    }
   },
   "id": "aeafd7ad1aa3b0b6",
   "execution_count": 2
  },
  {
   "cell_type": "markdown",
   "source": [
    "### Find the size of the image\n",
    "\n",
    "\n",
    "### Start in the middle of the images\n",
    "\n"
   ],
   "metadata": {
    "collapsed": false
   },
   "id": "23f0bb8374c1473b"
  },
  {
   "cell_type": "code",
   "outputs": [],
   "source": [],
   "metadata": {
    "collapsed": false,
    "ExecuteTime": {
     "end_time": "2024-04-30T07:50:42.818043Z",
     "start_time": "2024-04-30T07:50:42.814275Z"
    }
   },
   "id": "fed65928bd732f53",
   "execution_count": 2
  },
  {
   "cell_type": "markdown",
   "source": [
    "\n",
    "### find increasing sizes of boundary boxes\n",
    "\n",
    "\n",
    "### stop when reached the maximum\n",
    "\n",
    "\n",
    "### crop to boundary box when done"
   ],
   "metadata": {
    "collapsed": false
   },
   "id": "a8b9c4a48223e605"
  },
  {
   "cell_type": "code",
   "outputs": [],
   "source": [],
   "metadata": {
    "collapsed": false,
    "ExecuteTime": {
     "end_time": "2024-04-30T07:50:42.823665Z",
     "start_time": "2024-04-30T07:50:42.820575Z"
    }
   },
   "id": "7db4df3d357bc2f1",
   "execution_count": 2
  }
 ],
 "metadata": {
  "kernelspec": {
   "display_name": "Python 3",
   "language": "python",
   "name": "python3"
  },
  "language_info": {
   "codemirror_mode": {
    "name": "ipython",
    "version": 2
   },
   "file_extension": ".py",
   "mimetype": "text/x-python",
   "name": "python",
   "nbconvert_exporter": "python",
   "pygments_lexer": "ipython2",
   "version": "2.7.6"
  }
 },
 "nbformat": 4,
 "nbformat_minor": 5
}
