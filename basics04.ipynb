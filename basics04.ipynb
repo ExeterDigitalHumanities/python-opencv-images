{
 "cells": [
  {
   "cell_type": "markdown",
   "source": [
    "basics04.ipynb\n",
    "# Processing a folder of images"
   ],
   "metadata": {
    "collapsed": false
   },
   "id": "d027ed39cb80190c"
  },
  {
   "cell_type": "code",
   "outputs": [],
   "source": [],
   "metadata": {
    "collapsed": false,
    "ExecuteTime": {
     "end_time": "2024-05-07T07:35:23.986820Z",
     "start_time": "2024-05-07T07:35:23.983697Z"
    }
   },
   "id": "3f34044aaa6e97d9",
   "execution_count": 26
  },
  {
   "cell_type": "markdown",
   "source": [
    "### Import relevant libraries"
   ],
   "metadata": {
    "collapsed": false
   },
   "id": "609619401b0d4d50"
  },
  {
   "cell_type": "code",
   "outputs": [],
   "source": [
    "import numpy as np\n",
    "import cv2\n",
    "from skimage import io, data\n",
    "import napari\n",
    "import matplotlib.pyplot as plt\n",
    "import copy\n",
    "from pathlib import Path\n"
   ],
   "metadata": {
    "collapsed": false,
    "ExecuteTime": {
     "end_time": "2024-05-07T07:35:24.046643Z",
     "start_time": "2024-05-07T07:35:24.042852Z"
    }
   },
   "id": "177aff8da42e0325",
   "execution_count": 27
  },
  {
   "cell_type": "markdown",
   "source": [
    "### Configuration"
   ],
   "metadata": {
    "collapsed": false
   },
   "id": "ac94cdf2d6c20e1f"
  },
  {
   "cell_type": "code",
   "outputs": [],
   "source": [
    "SHOW_FULLSIZE = False\n",
    "DELAY = 2000                # in milliseconds\n",
    "INPUT_PATH = 'data/'\n",
    "OUTPUT_PATH = 'output/'\n",
    "OUTPUT_THRESHOLD = 88       # Threshold for final output\n",
    "CROPPING_THRESHOLD_UPPER = 255      # Threshold used to select the crop outline\n",
    "CROPPING_THRESHOLD_LOWER = 250"
   ],
   "metadata": {
    "collapsed": false,
    "ExecuteTime": {
     "end_time": "2024-05-07T07:35:24.071363Z",
     "start_time": "2024-05-07T07:35:24.057732Z"
    }
   },
   "id": "1845a3b812db6bb4",
   "execution_count": 28
  },
  {
   "cell_type": "markdown",
   "source": [
    "### Define helper functions\n",
    "* **makethumb()** is a quick rescaling function, reducing an image to 10% linear size\n",
    "* **showbriefly()** shows an image for DELAY milliseconds or until a key is pressed"
   ],
   "metadata": {
    "collapsed": false
   },
   "id": "e832759274f27d6a"
  },
  {
   "cell_type": "code",
   "outputs": [],
   "source": [
    "def makethumb(i):\n",
    "    return cv2.resize(i,None,fx=0.1,fy=0.1,interpolation=cv2.INTER_CUBIC)\n",
    "\n",
    "def showbriefly(i):\n",
    "    WindowName = 'Image Viewer'\n",
    "    view_window = cv2.namedWindow(WindowName, cv2.WINDOW_NORMAL)\n",
    "    w = cv2.imshow(WindowName,i)\n",
    "    # force focus\n",
    "    cv2.setWindowProperty(WindowName,cv2.WND_PROP_FULLSCREEN,cv2.WINDOW_FULLSCREEN)\n",
    "    cv2.setWindowProperty(WindowName,cv2.WND_PROP_FULLSCREEN,cv2.WINDOW_NORMAL)\n",
    "    # wait 10 seconds\n",
    "    cv2.waitKey(DELAY)\n",
    "    cv2.destroyAllWindows()\n",
    "\n",
    "def showinline(bgrimage, title):\n",
    "    mpimg = cv2.cvtColor(bgrimage, cv2.COLOR_BGR2RGB)\n",
    "    plt.imshow(mpimg)\n",
    "    plt.title(title)\n",
    "    plt.show()"
   ],
   "metadata": {
    "collapsed": false,
    "ExecuteTime": {
     "end_time": "2024-05-07T07:35:24.082796Z",
     "start_time": "2024-05-07T07:35:24.076764Z"
    }
   },
   "id": "a5af60bc540c8ad7",
   "execution_count": 29
  },
  {
   "cell_type": "markdown",
   "source": [
    "## Get the list of files\n",
    "We're looking at the /data folder, and as yet no filtering for just images\n"
   ],
   "metadata": {
    "collapsed": false
   },
   "id": "100c82bddec34e2b"
  },
  {
   "cell_type": "code",
   "outputs": [
    {
     "ename": "NameError",
     "evalue": "name 'os' is not defined",
     "output_type": "error",
     "traceback": [
      "\u001B[1;31m---------------------------------------------------------------------------\u001B[0m",
      "\u001B[1;31mNameError\u001B[0m                                 Traceback (most recent call last)",
      "Cell \u001B[1;32mIn[30], line 3\u001B[0m\n\u001B[0;32m      1\u001B[0m \u001B[38;5;28;01mfrom\u001B[39;00m \u001B[38;5;21;01mos\u001B[39;00m \u001B[38;5;28;01mimport\u001B[39;00m listdir\n\u001B[0;32m      2\u001B[0m \u001B[38;5;28;01mfrom\u001B[39;00m \u001B[38;5;21;01mos\u001B[39;00m\u001B[38;5;21;01m.\u001B[39;00m\u001B[38;5;21;01mpath\u001B[39;00m \u001B[38;5;28;01mimport\u001B[39;00m isfile, join\n\u001B[1;32m----> 3\u001B[0m \u001B[43mos\u001B[49m\u001B[38;5;241m.\u001B[39mpath\u001B[38;5;241m.\u001B[39msplitext(os\u001B[38;5;241m.\u001B[39mpath\u001B[38;5;241m.\u001B[39mbasename(\u001B[38;5;124m\"\u001B[39m\u001B[38;5;124m/path/to/file.txt\u001B[39m\u001B[38;5;124m\"\u001B[39m))[\u001B[38;5;241m0\u001B[39m]\n\u001B[0;32m      4\u001B[0m onlyfiles \u001B[38;5;241m=\u001B[39m [f \u001B[38;5;28;01mfor\u001B[39;00m f \u001B[38;5;129;01min\u001B[39;00m listdir(INPUT_PATH) \u001B[38;5;28;01mif\u001B[39;00m isfile(join(INPUT_PATH, f))]\n\u001B[0;32m      5\u001B[0m \u001B[38;5;28mprint\u001B[39m(onlyfiles)\n",
      "\u001B[1;31mNameError\u001B[0m: name 'os' is not defined"
     ]
    }
   ],
   "source": [
    "from os import listdir\n",
    "from os.path import isfile, join\n",
    "os.path.splitext(os.path.basename(\"/path/to/file.txt\"))[0]\n",
    "onlyfiles = [f for f in listdir(INPUT_PATH) if isfile(join(INPUT_PATH, f))]\n",
    "print(onlyfiles)"
   ],
   "metadata": {
    "collapsed": false,
    "ExecuteTime": {
     "end_time": "2024-05-07T07:35:24.128967Z",
     "start_time": "2024-05-07T07:35:24.112571Z"
    }
   },
   "id": "71613e04ed0eec70",
   "execution_count": 30
  },
  {
   "cell_type": "markdown",
   "source": [
    "## Now loop through each of the found files"
   ],
   "metadata": {
    "collapsed": false
   },
   "id": "ba610fc2a3392408"
  },
  {
   "cell_type": "code",
   "outputs": [
    {
     "ename": "NameError",
     "evalue": "name 'onlyfiles' is not defined",
     "output_type": "error",
     "traceback": [
      "\u001B[1;31m---------------------------------------------------------------------------\u001B[0m",
      "\u001B[1;31mNameError\u001B[0m                                 Traceback (most recent call last)",
      "Cell \u001B[1;32mIn[31], line 1\u001B[0m\n\u001B[1;32m----> 1\u001B[0m \u001B[38;5;28;01mfor\u001B[39;00m file \u001B[38;5;129;01min\u001B[39;00m \u001B[43monlyfiles\u001B[49m:\n\u001B[0;32m      2\u001B[0m     filename\u001B[38;5;241m=\u001B[39m file\u001B[38;5;241m.\u001B[39mstem\n\u001B[0;32m      3\u001B[0m     \u001B[38;5;28mprint\u001B[39m(file)\n",
      "\u001B[1;31mNameError\u001B[0m: name 'onlyfiles' is not defined"
     ]
    }
   ],
   "source": [
    "for file in onlyfiles:\n",
    "    filename= file.stem\n",
    "    print(file)"
   ],
   "metadata": {
    "collapsed": false,
    "ExecuteTime": {
     "end_time": "2024-05-07T07:35:24.158334Z",
     "start_time": "2024-05-07T07:35:24.141896Z"
    }
   },
   "id": "5ce1a891e6e41e85",
   "execution_count": 31
  },
  {
   "cell_type": "markdown",
   "source": [
    "### Read image using CV2 functions\n"
   ],
   "metadata": {
    "collapsed": false
   },
   "id": "d01e2e70453c9522"
  },
  {
   "cell_type": "code",
   "outputs": [
    {
     "ename": "NameError",
     "evalue": "name 'file' is not defined",
     "output_type": "error",
     "traceback": [
      "\u001B[1;31m---------------------------------------------------------------------------\u001B[0m",
      "\u001B[1;31mNameError\u001B[0m                                 Traceback (most recent call last)",
      "Cell \u001B[1;32mIn[32], line 1\u001B[0m\n\u001B[1;32m----> 1\u001B[0m img \u001B[38;5;241m=\u001B[39m cv2\u001B[38;5;241m.\u001B[39mimread(filename\u001B[38;5;241m=\u001B[39mINPUT_PATH\u001B[38;5;241m+\u001B[39m\u001B[43mfile\u001B[49m)\n\u001B[0;32m      2\u001B[0m \u001B[38;5;66;03m#showinline(img,'Unmodified image')\u001B[39;00m\n\u001B[0;32m      3\u001B[0m showbriefly(makethumb(img))\n",
      "\u001B[1;31mNameError\u001B[0m: name 'file' is not defined"
     ]
    }
   ],
   "source": [
    "    img = cv2.imread(filename=INPUT_PATH+file)\n",
    "    #showinline(img,'Unmodified image')\n",
    "    showbriefly(makethumb(img))"
   ],
   "metadata": {
    "collapsed": false,
    "ExecuteTime": {
     "end_time": "2024-05-07T07:35:24.287514Z",
     "start_time": "2024-05-07T07:35:24.271768Z"
    }
   },
   "id": "b08eb59ba583a715",
   "execution_count": 32
  },
  {
   "cell_type": "code",
   "outputs": [
    {
     "ename": "NameError",
     "evalue": "name 'img' is not defined",
     "output_type": "error",
     "traceback": [
      "\u001B[1;31m---------------------------------------------------------------------------\u001B[0m",
      "\u001B[1;31mNameError\u001B[0m                                 Traceback (most recent call last)",
      "Cell \u001B[1;32mIn[33], line 1\u001B[0m\n\u001B[1;32m----> 1\u001B[0m grey \u001B[38;5;241m=\u001B[39m cv2\u001B[38;5;241m.\u001B[39mcvtColor(\u001B[43mimg\u001B[49m,cv2\u001B[38;5;241m.\u001B[39mCOLOR_BGR2GRAY)\n",
      "\u001B[1;31mNameError\u001B[0m: name 'img' is not defined"
     ]
    }
   ],
   "source": [
    "grey = cv2.cvtColor(img,cv2.COLOR_BGR2GRAY)"
   ],
   "metadata": {
    "collapsed": false,
    "ExecuteTime": {
     "end_time": "2024-05-07T07:35:24.316294Z",
     "start_time": "2024-05-07T07:35:24.300955Z"
    }
   },
   "id": "9c842c85993f82f9",
   "execution_count": 33
  },
  {
   "cell_type": "markdown",
   "source": [
    "### Apply thresholds"
   ],
   "metadata": {
    "collapsed": false
   },
   "id": "fd69ab882cb3e3"
  },
  {
   "cell_type": "code",
   "outputs": [
    {
     "ename": "NameError",
     "evalue": "name 'img' is not defined",
     "output_type": "error",
     "traceback": [
      "\u001B[1;31m---------------------------------------------------------------------------\u001B[0m",
      "\u001B[1;31mNameError\u001B[0m                                 Traceback (most recent call last)",
      "Cell \u001B[1;32mIn[34], line 1\u001B[0m\n\u001B[1;32m----> 1\u001B[0m grey \u001B[38;5;241m=\u001B[39m cv2\u001B[38;5;241m.\u001B[39mcvtColor(\u001B[43mimg\u001B[49m,cv2\u001B[38;5;241m.\u001B[39mCOLOR_BGR2GRAY)\n\u001B[0;32m      2\u001B[0m ret,thresh \u001B[38;5;241m=\u001B[39m cv2\u001B[38;5;241m.\u001B[39mthreshold(grey,OUTPUT_THRESHOLD,\u001B[38;5;241m255\u001B[39m,cv2\u001B[38;5;241m.\u001B[39mTHRESH_OTSU)\n\u001B[0;32m      3\u001B[0m showbriefly(thresh)\n",
      "\u001B[1;31mNameError\u001B[0m: name 'img' is not defined"
     ]
    }
   ],
   "source": [
    "    grey = cv2.cvtColor(img,cv2.COLOR_BGR2GRAY)\n",
    "    ret,thresh = cv2.threshold(grey,OUTPUT_THRESHOLD,255,cv2.THRESH_OTSU)\n",
    "    showbriefly(thresh)\n",
    "    \n",
    "    "
   ],
   "metadata": {
    "collapsed": false,
    "ExecuteTime": {
     "end_time": "2024-05-07T07:35:24.382989Z",
     "start_time": "2024-05-07T07:35:24.368225Z"
    }
   },
   "id": "497002d6cfdb61bb",
   "execution_count": 34
  },
  {
   "cell_type": "markdown",
   "source": [],
   "metadata": {
    "collapsed": false
   },
   "id": "7d7af0cda8fcbbe6"
  },
  {
   "cell_type": "markdown",
   "source": [
    "#### Find the Contours\n",
    "* Redo the threshold with more extreme settings\n",
    "* Find the contours of the objects in the image\n",
    "\n",
    "From: https://stackoverflow.com/questions/13538748/crop-black-edges-with-opencv"
   ],
   "metadata": {
    "collapsed": false
   },
   "id": "b72f7d1ad0445d18"
  },
  {
   "cell_type": "code",
   "outputs": [
    {
     "ename": "NameError",
     "evalue": "name 'thresh' is not defined",
     "output_type": "error",
     "traceback": [
      "\u001B[1;31m---------------------------------------------------------------------------\u001B[0m",
      "\u001B[1;31mNameError\u001B[0m                                 Traceback (most recent call last)",
      "Cell \u001B[1;32mIn[35], line 1\u001B[0m\n\u001B[1;32m----> 1\u001B[0m _, cropthresh \u001B[38;5;241m=\u001B[39m cv2\u001B[38;5;241m.\u001B[39mthreshold(\u001B[43mthresh\u001B[49m,CROPPING_THRESHOLD_LOWER,CROPPING_THRESHOLD_UPPER,cv2\u001B[38;5;241m.\u001B[39mTHRESH_BINARY)\n\u001B[0;32m      2\u001B[0m contours,hierarchy \u001B[38;5;241m=\u001B[39m cv2\u001B[38;5;241m.\u001B[39mfindContours(cropthresh,cv2\u001B[38;5;241m.\u001B[39mRETR_EXTERNAL,cv2\u001B[38;5;241m.\u001B[39mCHAIN_APPROX_SIMPLE)\n\u001B[0;32m      3\u001B[0m showbriefly(cropthresh)\n",
      "\u001B[1;31mNameError\u001B[0m: name 'thresh' is not defined"
     ]
    }
   ],
   "source": [
    "    _, cropthresh = cv2.threshold(thresh,CROPPING_THRESHOLD_LOWER,CROPPING_THRESHOLD_UPPER,cv2.THRESH_BINARY)\n",
    "    contours,hierarchy = cv2.findContours(cropthresh,cv2.RETR_EXTERNAL,cv2.CHAIN_APPROX_SIMPLE)\n",
    "    showbriefly(cropthresh)"
   ],
   "metadata": {
    "collapsed": false,
    "ExecuteTime": {
     "end_time": "2024-05-07T07:35:24.419197Z",
     "start_time": "2024-05-07T07:35:24.399898Z"
    }
   },
   "id": "f1cdac508ae7f601",
   "execution_count": 35
  },
  {
   "cell_type": "code",
   "outputs": [
    {
     "ename": "NameError",
     "evalue": "name 'contours' is not defined",
     "output_type": "error",
     "traceback": [
      "\u001B[1;31m---------------------------------------------------------------------------\u001B[0m",
      "\u001B[1;31mNameError\u001B[0m                                 Traceback (most recent call last)",
      "Cell \u001B[1;32mIn[36], line 3\u001B[0m\n\u001B[0;32m      1\u001B[0m maxc \u001B[38;5;241m=\u001B[39m []\n\u001B[0;32m      2\u001B[0m maxa \u001B[38;5;241m=\u001B[39m \u001B[38;5;241m0\u001B[39m\n\u001B[1;32m----> 3\u001B[0m \u001B[38;5;28;01mfor\u001B[39;00m c \u001B[38;5;129;01min\u001B[39;00m \u001B[43mcontours\u001B[49m:\n\u001B[0;32m      4\u001B[0m     a \u001B[38;5;241m=\u001B[39m cv2\u001B[38;5;241m.\u001B[39mcontourArea(c)\n\u001B[0;32m      5\u001B[0m     \u001B[38;5;28;01mif\u001B[39;00m a\u001B[38;5;241m>\u001B[39mmaxa:\n",
      "\u001B[1;31mNameError\u001B[0m: name 'contours' is not defined"
     ]
    }
   ],
   "source": [
    "    maxc = []\n",
    "    maxa = 0\n",
    "    for c in contours:\n",
    "        a = cv2.contourArea(c)\n",
    "        if a>maxa:\n",
    "            maxc=c\n",
    "            maxa=a\n",
    "            print('new maximum: '+str(maxa))\n",
    "    cont = maxc"
   ],
   "metadata": {
    "collapsed": false,
    "ExecuteTime": {
     "end_time": "2024-05-07T07:35:24.481909Z",
     "start_time": "2024-05-07T07:35:24.464615Z"
    }
   },
   "id": "7109a3d3ca6d5449",
   "execution_count": 36
  },
  {
   "cell_type": "markdown",
   "source": [],
   "metadata": {
    "collapsed": false
   },
   "id": "f91d5f8bca9f2cd8"
  },
  {
   "cell_type": "code",
   "outputs": [],
   "source": [
    "    x,y,w,h = cv2.boundingRect(cont)\n",
    "\n",
    "    print('x,y,x`,y` = ',x,y,x+w,y+h)\n",
    "    print('w,h = ',w,h)"
   ],
   "metadata": {
    "collapsed": false,
    "ExecuteTime": {
     "start_time": "2024-05-07T07:35:24.484141Z"
    }
   },
   "id": "70ab93843aa28448",
   "execution_count": null
  },
  {
   "cell_type": "markdown",
   "source": [
    "#### Show the bounding box in green for confirmation\n",
    "* Note that the **rectangle()** function modifies the image it references\n",
    " * Hence the need to do a **deepcopy()**"
   ],
   "metadata": {
    "collapsed": false
   },
   "id": "3013dbe9d9cf4a53"
  },
  {
   "cell_type": "code",
   "outputs": [
    {
     "ename": "NameError",
     "evalue": "name 'img' is not defined",
     "output_type": "error",
     "traceback": [
      "\u001B[1;31m---------------------------------------------------------------------------\u001B[0m",
      "\u001B[1;31mNameError\u001B[0m                                 Traceback (most recent call last)",
      "Cell \u001B[1;32mIn[37], line 1\u001B[0m\n\u001B[1;32m----> 1\u001B[0m boundbox \u001B[38;5;241m=\u001B[39m copy\u001B[38;5;241m.\u001B[39mdeepcopy(\u001B[43mimg\u001B[49m)\n\u001B[0;32m      2\u001B[0m cv2\u001B[38;5;241m.\u001B[39mrectangle(boundbox,(x,y),(x\u001B[38;5;241m+\u001B[39mw,y\u001B[38;5;241m+\u001B[39mh),(\u001B[38;5;241m0\u001B[39m,\u001B[38;5;241m255\u001B[39m,\u001B[38;5;241m0\u001B[39m),\u001B[38;5;241m20\u001B[39m)\n\u001B[0;32m      3\u001B[0m \u001B[38;5;66;03m#showinline(boundbox, 'Bounding box')\u001B[39;00m\n",
      "\u001B[1;31mNameError\u001B[0m: name 'img' is not defined"
     ]
    }
   ],
   "source": [
    "    boundbox = copy.deepcopy(img)\n",
    "    cv2.rectangle(boundbox,(x,y),(x+w,y+h),(0,255,0),20)\n",
    "    #showinline(boundbox, 'Bounding box')\n",
    "    showbriefly(boundbox)"
   ],
   "metadata": {
    "collapsed": false,
    "ExecuteTime": {
     "end_time": "2024-05-07T07:35:24.506035Z",
     "start_time": "2024-05-07T07:35:24.490527Z"
    }
   },
   "id": "d9d318c6e989385a",
   "execution_count": 37
  },
  {
   "cell_type": "markdown",
   "source": [
    "Crop"
   ],
   "metadata": {
    "collapsed": false
   },
   "id": "1648af608aa81b2"
  },
  {
   "cell_type": "code",
   "outputs": [
    {
     "ename": "NameError",
     "evalue": "name 'img' is not defined",
     "output_type": "error",
     "traceback": [
      "\u001B[1;31m---------------------------------------------------------------------------\u001B[0m",
      "\u001B[1;31mNameError\u001B[0m                                 Traceback (most recent call last)",
      "Cell \u001B[1;32mIn[38], line 1\u001B[0m\n\u001B[1;32m----> 1\u001B[0m crop \u001B[38;5;241m=\u001B[39m \u001B[43mimg\u001B[49m[y:y\u001B[38;5;241m+\u001B[39mh,x:x\u001B[38;5;241m+\u001B[39mw]\n\u001B[0;32m      2\u001B[0m showbriefly(crop)\n\u001B[0;32m      3\u001B[0m \u001B[38;5;66;03m#showinline(crop, 'Cropped image')\u001B[39;00m\n",
      "\u001B[1;31mNameError\u001B[0m: name 'img' is not defined"
     ]
    }
   ],
   "source": [
    "    crop = img[y:y+h,x:x+w]\n",
    "    showbriefly(crop)\n",
    "    #showinline(crop, 'Cropped image')"
   ],
   "metadata": {
    "collapsed": false,
    "ExecuteTime": {
     "end_time": "2024-05-07T07:35:24.566311Z",
     "start_time": "2024-05-07T07:35:24.552070Z"
    }
   },
   "id": "b26ee1899450b33a",
   "execution_count": 38
  },
  {
   "cell_type": "markdown",
   "source": [],
   "metadata": {
    "collapsed": false
   },
   "id": "9b2a2b618b1272a7"
  },
  {
   "cell_type": "code",
   "outputs": [
    {
     "ename": "NameError",
     "evalue": "name 'thresh' is not defined",
     "output_type": "error",
     "traceback": [
      "\u001B[1;31m---------------------------------------------------------------------------\u001B[0m",
      "\u001B[1;31mNameError\u001B[0m                                 Traceback (most recent call last)",
      "Cell \u001B[1;32mIn[39], line 1\u001B[0m\n\u001B[1;32m----> 1\u001B[0m cropocr \u001B[38;5;241m=\u001B[39m \u001B[43mthresh\u001B[49m[y:y\u001B[38;5;241m+\u001B[39mh,x:x\u001B[38;5;241m+\u001B[39mw]\n\u001B[0;32m      2\u001B[0m showbriefly(cropocr)\n\u001B[0;32m      3\u001B[0m \u001B[38;5;66;03m#showinline(cropocr,'OCR prepared image')\u001B[39;00m\n",
      "\u001B[1;31mNameError\u001B[0m: name 'thresh' is not defined"
     ]
    }
   ],
   "source": [
    "    cropocr = thresh[y:y+h,x:x+w]\n",
    "    showbriefly(cropocr)\n",
    "    #showinline(cropocr,'OCR prepared image')"
   ],
   "metadata": {
    "collapsed": false,
    "ExecuteTime": {
     "end_time": "2024-05-07T07:35:24.594861Z",
     "start_time": "2024-05-07T07:35:24.580334Z"
    }
   },
   "id": "20ab389e3a1698a",
   "execution_count": 39
  },
  {
   "cell_type": "markdown",
   "source": [
    "### Now write the images to the output folder"
   ],
   "metadata": {
    "collapsed": false
   },
   "id": "6f42dee466d9bcc3"
  },
  {
   "cell_type": "code",
   "outputs": [
    {
     "name": "stdout",
     "output_type": "stream",
     "text": [
      "Writing cropped colour image\n"
     ]
    },
    {
     "ename": "NameError",
     "evalue": "name 'crop' is not defined",
     "output_type": "error",
     "traceback": [
      "\u001B[1;31m---------------------------------------------------------------------------\u001B[0m",
      "\u001B[1;31mNameError\u001B[0m                                 Traceback (most recent call last)",
      "Cell \u001B[1;32mIn[40], line 3\u001B[0m\n\u001B[0;32m      1\u001B[0m cv2\u001B[38;5;241m.\u001B[39mdestroyAllWindows()\n\u001B[0;32m      2\u001B[0m \u001B[38;5;28mprint\u001B[39m(\u001B[38;5;124m'\u001B[39m\u001B[38;5;124mWriting cropped colour image\u001B[39m\u001B[38;5;124m'\u001B[39m)\n\u001B[1;32m----> 3\u001B[0m _ \u001B[38;5;241m=\u001B[39m cv2\u001B[38;5;241m.\u001B[39mimwrite(img\u001B[38;5;241m=\u001B[39m\u001B[43mcrop\u001B[49m, filename\u001B[38;5;241m=\u001B[39mOUTPUT_PATH \u001B[38;5;241m+\u001B[39m filename \u001B[38;5;241m+\u001B[39m \u001B[38;5;124m'\u001B[39m\u001B[38;5;124m-cropped.jpg\u001B[39m\u001B[38;5;124m'\u001B[39m)\n\u001B[0;32m      4\u001B[0m \u001B[38;5;28mprint\u001B[39m(\u001B[38;5;124m'\u001B[39m\u001B[38;5;124mWriting cropped thresholded image for OCR processing\u001B[39m\u001B[38;5;124m'\u001B[39m)\n\u001B[0;32m      5\u001B[0m _ \u001B[38;5;241m=\u001B[39m cv2\u001B[38;5;241m.\u001B[39mimwrite(img\u001B[38;5;241m=\u001B[39mcropocr, filename\u001B[38;5;241m=\u001B[39mOUTPUT_PATH \u001B[38;5;241m+\u001B[39m filename \u001B[38;5;241m+\u001B[39m \u001B[38;5;124m'\u001B[39m\u001B[38;5;124m-thresholded.jpg\u001B[39m\u001B[38;5;124m'\u001B[39m)\n",
      "\u001B[1;31mNameError\u001B[0m: name 'crop' is not defined"
     ]
    }
   ],
   "source": [
    "    cv2.destroyAllWindows()\n",
    "    print('Writing cropped colour image')\n",
    "    _ = cv2.imwrite(img=crop, filename=OUTPUT_PATH + filename + '-cropped.jpg')\n",
    "    print('Writing cropped thresholded image for OCR processing')\n",
    "    _ = cv2.imwrite(img=cropocr, filename=OUTPUT_PATH + filename + '-thresholded.jpg')"
   ],
   "metadata": {
    "collapsed": false,
    "ExecuteTime": {
     "end_time": "2024-05-07T07:35:24.662585Z",
     "start_time": "2024-05-07T07:35:24.649Z"
    }
   },
   "id": "80717e61799d99bc",
   "execution_count": 40
  },
  {
   "cell_type": "code",
   "outputs": [],
   "source": [],
   "metadata": {
    "collapsed": false,
    "ExecuteTime": {
     "end_time": "2024-05-07T07:35:24.689135Z",
     "start_time": "2024-05-07T07:35:24.685782Z"
    }
   },
   "id": "d34e5462828e2c67",
   "execution_count": 40
  }
 ],
 "metadata": {
  "kernelspec": {
   "display_name": "Python 3",
   "language": "python",
   "name": "python3"
  },
  "language_info": {
   "codemirror_mode": {
    "name": "ipython",
    "version": 2
   },
   "file_extension": ".py",
   "mimetype": "text/x-python",
   "name": "python",
   "nbconvert_exporter": "python",
   "pygments_lexer": "ipython2",
   "version": "2.7.6"
  }
 },
 "nbformat": 4,
 "nbformat_minor": 5
}
