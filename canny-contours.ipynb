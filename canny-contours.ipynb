{
 "cells": [
  {
   "cell_type": "code",
   "execution_count": null,
   "id": "initial_id",
   "metadata": {
    "collapsed": true,
    "ExecuteTime": {
     "end_time": "2024-05-07T07:35:50.314884Z",
     "start_time": "2024-05-07T07:35:50.310934Z"
    }
   },
   "outputs": [],
   "source": []
  },
  {
   "cell_type": "code",
   "outputs": [
    {
     "name": "stdout",
     "output_type": "stream",
     "text": [
      "Number of Contours found = 21496\n"
     ]
    }
   ],
   "source": [
    "\n",
    "import cv2 \n",
    "import numpy as np \n",
    "  \n",
    "  \n",
    "def makethumb(i):\n",
    "    return cv2.resize(i,None,fx=0.1,fy=0.1,interpolation=cv2.INTER_CUBIC)\n",
    "\n",
    "# Let's load a simple image with 3 black squares \n",
    "image = cv2.imread('data/moved/hl007179.jpg') \n",
    "#cv2.waitKey(0) \n",
    "  \n",
    "# Grayscale \n",
    "gray = cv2.cvtColor(image, cv2.COLOR_BGR2GRAY) \n",
    "  \n",
    "# Find Canny edges \n",
    "edged = cv2.Canny(gray, 30, 200) \n",
    "#cv2.waitKey(0) \n",
    "  \n",
    "# Finding Contours \n",
    "# Use a copy of the image e.g. edged.copy() \n",
    "# since findContours alters the image \n",
    "contours, hierarchy = cv2.findContours(edged,  \n",
    "    cv2.RETR_EXTERNAL, cv2.CHAIN_APPROX_NONE) \n",
    "  \n",
    "cv2.imshow('Canny Edges After Contouring', makethumb(edged)) \n",
    "#cv2.waitKey(0) \n",
    "  \n",
    "print(\"Number of Contours found = \" + str(len(contours))) \n",
    "  \n",
    "# Draw all contours \n",
    "# -1 signifies drawing all contours \n",
    "cv2.drawContours(image, contours, -1, (0, 255, 0), 3) \n",
    "  \n",
    "cv2.imshow('Contours', makethumb(image)) \n",
    "cv2.waitKey(0) \n",
    "cv2.destroyAllWindows() \n"
   ],
   "metadata": {
    "collapsed": false,
    "ExecuteTime": {
     "end_time": "2024-05-07T07:36:01.815768Z",
     "start_time": "2024-05-07T07:35:50.318874Z"
    }
   },
   "id": "92d362adfc733e22",
   "execution_count": 1
  },
  {
   "cell_type": "code",
   "outputs": [],
   "source": [],
   "metadata": {
    "collapsed": false,
    "ExecuteTime": {
     "end_time": "2024-05-07T07:36:01.821935Z",
     "start_time": "2024-05-07T07:36:01.817755Z"
    }
   },
   "id": "b6a2432146ae7be9",
   "execution_count": 1
  },
  {
   "cell_type": "code",
   "outputs": [],
   "source": [],
   "metadata": {
    "collapsed": false,
    "ExecuteTime": {
     "end_time": "2024-05-07T07:36:01.829262Z",
     "start_time": "2024-05-07T07:36:01.824932Z"
    }
   },
   "id": "d935748f3f62b8cf",
   "execution_count": 1
  }
 ],
 "metadata": {
  "kernelspec": {
   "display_name": "Python 3",
   "language": "python",
   "name": "python3"
  },
  "language_info": {
   "codemirror_mode": {
    "name": "ipython",
    "version": 2
   },
   "file_extension": ".py",
   "mimetype": "text/x-python",
   "name": "python",
   "nbconvert_exporter": "python",
   "pygments_lexer": "ipython2",
   "version": "2.7.6"
  }
 },
 "nbformat": 4,
 "nbformat_minor": 5
}
